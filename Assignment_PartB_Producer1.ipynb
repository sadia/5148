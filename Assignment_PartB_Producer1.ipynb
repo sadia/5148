{
 "cells": [
  {
   "cell_type": "code",
   "execution_count": 1,
   "metadata": {},
   "outputs": [],
   "source": [
    "# import statements\n",
    "import random\n",
    "import csv\n",
    "import datetime as dt\n",
    "import pymongo\n",
    "import geohash2\n",
    "\n",
    "from time import sleep\n",
    "from json import dumps\n",
    "from kafka import KafkaProducer\n",
    "from pymongo import MongoClient\n",
    "from pprint import pprint\n",
    "\n",
    "client = MongoClient()\n",
    "db = client.fit5148_assignment_db\n",
    "climate_fire = db.climate_fire"
   ]
  },
  {
   "cell_type": "code",
   "execution_count": 2,
   "metadata": {},
   "outputs": [],
   "source": [
    "climate_data = []\n",
    "\n",
    "# Open the climate_historic CSV file \n",
    "with open('climate_streaming.csv', 'r', encoding='utf-8-sig') as streaming_file: \n",
    "    # Skip header line\n",
    "    next(streaming_file)\n",
    "    \n",
    "  # Read the fire_historic CSV file, append each row to the array\n",
    "    for row in csv.reader(streaming_file):\n",
    "        climate_data.append(row) "
   ]
  },
  {
   "cell_type": "code",
   "execution_count": null,
   "metadata": {
    "scrolled": true
   },
   "outputs": [
    {
     "name": "stdout",
     "output_type": "stream",
     "text": [
      "Publishing records..\n",
      "Message published successfully. Data: CLIMATE, 2020-10-05T02-18-29, -37.683, 148.038, 12, 46.6, 6.7\n",
      "Message published successfully. Data: CLIMATE, 2020-10-05T02-18-40, -38.172, 143.825, 17, 51.2, 9.9\n",
      "Message published successfully. Data: CLIMATE, 2020-10-05T02-18-50, -37.957, 141.051, 15, 41.5, 17\n",
      "Message published successfully. Data: CLIMATE, 2020-10-05T02-19-00, -37.466, 148.143, 22, 62, 7.9\n",
      "Message published successfully. Data: CLIMATE, 2020-10-05T02-19-10, -35.7073, 143.1849, 21, 58.1, 5.3\n",
      "Message published successfully. Data: CLIMATE, 2020-10-05T02-19-20, -37.378, 143.457, 14, 50.4, 12.8\n",
      "Message published successfully. Data: CLIMATE, 2020-10-05T02-19-30, -37.589, 143.458, 8, 42.6, 2\n",
      "Message published successfully. Data: CLIMATE, 2020-10-05T02-19-40, -37.479, 149.448, 12, 45.1, 11.9\n",
      "Message published successfully. Data: CLIMATE, 2020-10-05T02-19-50, -37.7009, 146.2046, 14, 52.5, 7\n",
      "Message published successfully. Data: CLIMATE, 2020-10-05T02-20-00, -36.186, 145.76, 13, 47, 7.9\n",
      "Message published successfully. Data: CLIMATE, 2020-10-05T02-20-10, -37.983, 142.957, 10, 43.6, 9.7\n",
      "Message published successfully. Data: CLIMATE, 2020-10-05T02-20-20, -37.25, 146.31, 20, 58.8, 11.5\n"
     ]
    }
   ],
   "source": [
    "def publish_message(producer_instance, topic_name, key, value):\n",
    "    try:\n",
    "        key_bytes = bytes(key, encoding='utf-8')\n",
    "        value_bytes = bytes(value, encoding='utf-8')\n",
    "        producer_instance.send(topic_name, key=key_bytes, value=value_bytes)\n",
    "        producer_instance.flush()\n",
    "        print('Message published successfully. Data: ' + str(data))\n",
    "    except Exception as ex:\n",
    "        print('Exception in publishing message.')\n",
    "        print(str(ex))\n",
    "        \n",
    "def connect_kafka_producer():\n",
    "    _producer = None\n",
    "    try:\n",
    "        _producer = KafkaProducer(bootstrap_servers=['localhost:9092'],\n",
    "                                  api_version=(0, 10))\n",
    "    except Exception as ex:\n",
    "        print('Exception while connecting Kafka.')\n",
    "        print(str(ex))\n",
    "    finally:\n",
    "        return _producer\n",
    "\n",
    "if __name__ == '__main__':\n",
    "\n",
    "    topic = 'CLIMATE' \n",
    "    \n",
    "    print('Publishing records..')\n",
    "    producer = connect_kafka_producer()\n",
    "    \n",
    "    for i in range(len(climate_data)):\n",
    "        values = random.choice(climate_data)\n",
    "        geo3 = str(geohash2.encode(float(values[0]), float(values[1]), precision=3))\n",
    "        data = topic + ', ' + (dt.datetime.now().strftime(\"%Y-%m-%dT%H-%M-%S\")) + ', ' + str(values[0]) + ', ' + str(values[1]) + ', ' + str(values[2]) + ', ' + str(values[3]) + ', ' + str(values[4])\n",
    "\n",
    "        publish_message(producer, topic, geo3, data)\n",
    "        sleep(10)"
   ]
  }
 ],
 "metadata": {
  "kernelspec": {
   "display_name": "Python 3",
   "language": "python",
   "name": "python3"
  },
  "language_info": {
   "codemirror_mode": {
    "name": "ipython",
    "version": 3
   },
   "file_extension": ".py",
   "mimetype": "text/x-python",
   "name": "python",
   "nbconvert_exporter": "python",
   "pygments_lexer": "ipython3",
   "version": "3.7.4"
  }
 },
 "nbformat": 4,
 "nbformat_minor": 4
}
