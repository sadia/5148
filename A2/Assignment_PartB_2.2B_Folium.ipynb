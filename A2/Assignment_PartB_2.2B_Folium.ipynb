{
 "cells": [
  {
   "cell_type": "code",
   "execution_count": null,
   "metadata": {},
   "outputs": [],
   "source": [
    "import folium\n",
    "from pprint import pprint"
   ]
  },
  {
   "cell_type": "code",
   "execution_count": null,
   "metadata": {},
   "outputs": [],
   "source": [
    "from pymongo import MongoClient\n",
    "\n",
    "client = MongoClient()\n",
    "db = client.fit5148_assignment_db\n",
    "climate_fire = db.climate_fire\n",
    "# Preparing the data for plotting\n",
    "unoccupiedList = []\n",
    "\n",
    "m = folium.Map(\n",
    "\tlocation=[-36.704, 144.252],\n",
    "\tzoom_start=12,\n",
    "\ttiles='openstreetmap'\n",
    ")\n",
    "\n",
    "\n",
    "fire_data = list(climate_fire.aggregate([\n",
    "\t{\"$unwind\": \"$fire\"},\n",
    "\t{\"$project\": {\n",
    "\t\t\"latitude\": \"$fire.latitude\",\n",
    "\t\t\"longitude\": \"$fire.longitude\",\n",
    "\t\t\"air_temp\": \"$climate.air_temp\",\n",
    "\t\t\"surface_temp\": \"$fire.surface_temp\",\n",
    "\t\t\"relative_humidity\": \"$climate.relative_humidity\",\n",
    "\t\t\"confidence\": \"$fire.confidence\",\n",
    "\t\t\"_id\": 0\n",
    "\t\t}\n",
    "\t}\n",
    "]))\n",
    "# print(fire_data)\n",
    "\n",
    "# Looping through all the data\n",
    "for row in fire_data:\n",
    "    \n",
    "        # Adding the latitude and longitude to the list of unoccupied spots\n",
    "\ttooltip = \"<ul><li><b>Air Temp: </b>\"+str(row[\"air_temp\"])+\"\\N{DEGREE SIGN}C\"+\"</li><li><b>Surface Temp: </b>\"+str(row[\"surface_temp\"])+\"\\N{DEGREE SIGN}C\"+\"</li><li><b>Relative Humidity: </b>\"+str(row[\"relative_humidity\"])+\"%</li><li><b>Confidence: </b>\"+str(row[\"confidence\"])+\"</li></ul>\"\n",
    "\n",
    "\tfolium.Marker([float(row[\"latitude\"]), float(row[\"longitude\"])], tooltip=tooltip).add_to(m)        \n",
    "        \n",
    "\n",
    "#Display the map\n",
    "m"
   ]
  },
  {
   "cell_type": "code",
   "execution_count": null,
   "metadata": {},
   "outputs": [],
   "source": [
    "#save the map as a web page\n",
    "m.save('FireLocations.html')"
   ]
  }
 ],
 "metadata": {
  "kernelspec": {
   "display_name": "Python 3",
   "language": "python",
   "name": "python3"
  },
  "language_info": {
   "codemirror_mode": {
    "name": "ipython",
    "version": 3
   },
   "file_extension": ".py",
   "mimetype": "text/x-python",
   "name": "python",
   "nbconvert_exporter": "python",
   "pygments_lexer": "ipython3",
   "version": "3.7.4"
  }
 },
 "nbformat": 4,
 "nbformat_minor": 2
}
